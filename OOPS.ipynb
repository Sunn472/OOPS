{
  "nbformat": 4,
  "nbformat_minor": 0,
  "metadata": {
    "colab": {
      "provenance": []
    },
    "kernelspec": {
      "name": "python3",
      "display_name": "Python 3"
    },
    "language_info": {
      "name": "python"
    }
  },
  "cells": [
    {
      "cell_type": "code",
      "execution_count": null,
      "metadata": {
        "colab": {
          "base_uri": "https://localhost:8080/"
        },
        "id": "KdU_nuY8CRw0",
        "outputId": "cccec54e-b1b8-4fc6-f2aa-14eac51eb6b3"
      },
      "outputs": [
        {
          "output_type": "stream",
          "name": "stdout",
          "text": [
            "Bark!\n"
          ]
        }
      ],
      "source": [
        "'''\n",
        " Q1. Create a parent class Animal with a method speak() that prints a\n",
        " generic message. Create a child class Dog that overrides the speak() method to\n",
        "print \"Bark!\n",
        "'''\n",
        "class Animal:\n",
        "    def speak(self):\n",
        "        print('Generic message')\n",
        "\n",
        "class Dog(Animal):\n",
        "    def speak(self):\n",
        "        print('Bark!')\n",
        "\n",
        "dog = Dog()\n",
        "dog.speak()"
      ]
    },
    {
      "cell_type": "code",
      "source": [
        "'''\n",
        "Q2. Write a program to create an abstract class Shape with a method area().\n",
        "Derive classes Circle and Rectangle from it and implement\n",
        "the area() method in both.\n",
        "'''\n",
        "import abc\n",
        "class Shape:\n",
        "     @abc.abstractmethod\n",
        "     def area(self):\n",
        "         pass\n",
        "\n",
        "class Circle(Shape):\n",
        "    def __init__(self,radius):\n",
        "        self.radius=radius\n",
        "    def area(self):\n",
        "        print('Area of circle:', 3.14*self.radius**2)\n",
        "\n",
        "class Rectangle(Shape):\n",
        "    def __init__(self,length,breadth):\n",
        "        self.length = length\n",
        "        self.breadth = breadth\n",
        "    def area(self):\n",
        "        print('Area of rectangle:', self.length * self.breadth)\n",
        "\n",
        "c1=Circle(5)\n",
        "c1.area()\n",
        "r1=Rectangle(4,5)\n",
        "r1.area()\n"
      ],
      "metadata": {
        "colab": {
          "base_uri": "https://localhost:8080/"
        },
        "id": "pE9NoL4kDWB9",
        "outputId": "e6893ddd-9a69-4aef-8831-8f252d7d988c"
      },
      "execution_count": null,
      "outputs": [
        {
          "output_type": "stream",
          "name": "stdout",
          "text": [
            "Area of circle: 78.5\n",
            "Area of rectangle: 20\n"
          ]
        }
      ]
    },
    {
      "cell_type": "code",
      "source": [
        "''''\n",
        "Q3.  Implement a multi-level inheritance scenario where a class Vehicle has an\n",
        "attribute type. Derive a class Car and further derive a class ElectricCar\n",
        "that adds a battery attribute.\n",
        "'''\n",
        "class Vehicle:\n",
        "    def __init__(self, type):\n",
        "        self.type = type\n",
        "\n",
        "class Car(Vehicle):\n",
        "    def __init__(self, type, brand):\n",
        "        super().__init__(type)\n",
        "        self.brand = brand\n",
        "\n",
        "class ElectricCar(Car):\n",
        "    def __init__(self, type, brand, battery):\n",
        "        super().__init__(type, brand)\n",
        "        self.battery = battery\n",
        "\n",
        "\n",
        "vehicle = Vehicle(\"General Vehicle\")\n",
        "car = Car(\"Sedan\", \"Toyota\")\n",
        "electric_car = ElectricCar(\"Sedan\", \"Tesla\", \"100 kWh\")\n",
        "\n",
        "print(vehicle.type)\n",
        "print(car.type, car.brand)\n",
        "print(electric_car.type, electric_car.brand, electric_car.battery)\n"
      ],
      "metadata": {
        "id": "gPkdrkBZJUXI",
        "colab": {
          "base_uri": "https://localhost:8080/"
        },
        "outputId": "28d57054-7acc-4e3e-d202-a1fb10bbdf28"
      },
      "execution_count": 38,
      "outputs": [
        {
          "output_type": "stream",
          "name": "stdout",
          "text": [
            "General Vehicle\n",
            "Sedan Toyota\n",
            "Sedan Tesla 100 kWh\n"
          ]
        }
      ]
    },
    {
      "cell_type": "code",
      "source": [
        "'''\n",
        "Q4.  Demonstrate polymorphism by creating a base class Bird with a method fly().\n",
        "Create two derived classes Sparrow and Penguin that override the fly() method.\n",
        "'''\n",
        "class Bird:\n",
        "    def fly(self):\n",
        "        print('Birds can fly')\n",
        "\n",
        "class Sparrow(Bird):\n",
        "    def fly(self):\n",
        "        print('Sparrows can fly')\n",
        "\n",
        "class Penguin(Bird):\n",
        "    def fly(self):\n",
        "        print('Penguins cannot fly')\n",
        "\n",
        "bird=Bird()\n",
        "bird.fly()\n",
        "sparrow=Sparrow()\n",
        "sparrow.fly()\n",
        "penguin=Penguin()\n",
        "penguin.fly()"
      ],
      "metadata": {
        "colab": {
          "base_uri": "https://localhost:8080/"
        },
        "id": "0Tv9mCQPY3Q4",
        "outputId": "15415df1-f8fe-48b3-b9af-ef88e2097c2f"
      },
      "execution_count": 4,
      "outputs": [
        {
          "output_type": "stream",
          "name": "stdout",
          "text": [
            "Birds can fly\n",
            "Sparrows can fly\n",
            "Penguins cannot fly\n"
          ]
        }
      ]
    },
    {
      "cell_type": "code",
      "source": [
        "'''\n",
        "Q5.  Write a program to demonstrate encapsulation by creating a class\n",
        "BankAccount with private attributes balance and methods to deposit, withdraw,\n",
        "and check balance\n",
        "'''\n",
        "class Bank:\n",
        "    def __init__(self,balance):\n",
        "        self.__balance = balance\n",
        "\n",
        "    def deposit(self,amount):\n",
        "        self.__balance = self.__balance + amount\n",
        "\n",
        "    def withdraw(self,amount):\n",
        "        if self.__balance>=amount:\n",
        "            self.__balance = self.__balance - amount\n",
        "            return True\n",
        "        else:\n",
        "            return False\n",
        "\n",
        "    def get_balance(self):\n",
        "        return self.__balance\n",
        "\n",
        "acc=Bank(10000)\n",
        "acc.deposit(5000)\n",
        "print(acc.get_balance())\n",
        "acc.withdraw(12000)\n",
        "print(acc.get_balance())"
      ],
      "metadata": {
        "colab": {
          "base_uri": "https://localhost:8080/"
        },
        "id": "wd3amiLtalcA",
        "outputId": "828ecab0-3313-4df3-9cbe-7c04ca3e3fe4"
      },
      "execution_count": 8,
      "outputs": [
        {
          "output_type": "stream",
          "name": "stdout",
          "text": [
            "15000\n",
            "3000\n"
          ]
        }
      ]
    },
    {
      "cell_type": "code",
      "source": [
        "'''\n",
        "Q6. Demonstrate runtime polymorphism using a method play() in a base class\n",
        "Instrument. Derive classes Guitar and Piano that implement their own version of\n",
        "play().\n",
        "'''\n",
        "class Instrument:\n",
        "    def play(self):\n",
        "        print(\"Playing an instrument\")\n",
        "\n",
        "class Guitar(Instrument):\n",
        "    def play(self):\n",
        "        print(\"Strumming the guitar\")\n",
        "\n",
        "class Piano(Instrument):\n",
        "    def play(self):\n",
        "        print(\"Playing the piano\")\n",
        "\n",
        "    def perform(instrument):\n",
        "        return instrument.play()\n",
        "\n",
        "guitar=Guitar()\n",
        "piano=Piano()\n",
        "instrument=Instrument()\n",
        "guitar.play()\n",
        "piano.play()\n",
        "instrument.play()\n",
        "print(perform(guitar))\n",
        "print(perform(piano))\n",
        "print(perform(instrument))"
      ],
      "metadata": {
        "colab": {
          "base_uri": "https://localhost:8080/"
        },
        "id": "2KdAWVVud9rb",
        "outputId": "cb100548-74d0-44b7-dde1-10e56a5b57d1"
      },
      "execution_count": 11,
      "outputs": [
        {
          "output_type": "stream",
          "name": "stdout",
          "text": [
            "Strumming the guitar\n",
            "Playing the piano\n",
            "Playing an instrument\n",
            "Strumming the guitar\n",
            "None\n",
            "Playing the piano\n",
            "None\n",
            "Playing an instrument\n",
            "None\n"
          ]
        }
      ]
    },
    {
      "cell_type": "code",
      "source": [
        "'''\n",
        "Q7.  Create a class MathOperations with a class method add_numbers() to add two\n",
        "numbers and a static method subtract_numbers() to subtract two numbers.\n",
        "'''\n",
        "class MathOperations:\n",
        "    @classmethod\n",
        "    def add_numbers(cls,a,b):\n",
        "        return a+b\n",
        "\n",
        "    @staticmethod\n",
        "    def substract_numbers(a,b):\n",
        "        return a-b\n",
        "\n",
        "sum_no=MathOperations.add_numbers(5,6)\n",
        "diff_no=MathOperations.substract_numbers(10,8)\n",
        "\n",
        "print(\"Sum of two no. \",sum_no)\n",
        "print(\"Difference of two no. \",diff_no)"
      ],
      "metadata": {
        "colab": {
          "base_uri": "https://localhost:8080/"
        },
        "id": "N3g80UQajO8r",
        "outputId": "1f7b2d2a-95ff-4e59-bfe4-fa3d9d373d8c"
      },
      "execution_count": 16,
      "outputs": [
        {
          "output_type": "stream",
          "name": "stdout",
          "text": [
            "Sum of two no.  11\n",
            "Difference of two no.  2\n"
          ]
        }
      ]
    },
    {
      "cell_type": "code",
      "source": [
        "'''\n",
        "Q8.  Implement a class Person with a class method to count the total\n",
        "number of persons created\n",
        "'''\n",
        "class Person:\n",
        "\n",
        "    total_person=0\n",
        "    def __init__(self,name):\n",
        "        self.name=name\n",
        "        Person.total_person=Person.total_person+1\n",
        "\n",
        "    @classmethod\n",
        "    def get_total_person(cls):\n",
        "        return cls.total_person\n",
        "\n",
        "p1=Person('Ram')\n",
        "p2=Person('Shyam')\n",
        "print(p1.name)\n",
        "print(p2.name)\n",
        "print(Person.total_person)"
      ],
      "metadata": {
        "colab": {
          "base_uri": "https://localhost:8080/"
        },
        "id": "hZ3rNd7mnycG",
        "outputId": "f11539c3-30e4-4a51-94c2-11d390d2ef74"
      },
      "execution_count": 17,
      "outputs": [
        {
          "output_type": "stream",
          "name": "stdout",
          "text": [
            "Ram\n",
            "Shyam\n",
            "2\n"
          ]
        }
      ]
    },
    {
      "cell_type": "code",
      "source": [
        "'''\n",
        "Q9. Write a class Fraction with attributes numerator and denominator.\n",
        "Override the str method to display the fraction as \"numerator/denominator\".\n",
        "'''\n",
        "class Fraction:\n",
        "    def __init__(self,numerator,denominator):\n",
        "        self.numerator=numerator\n",
        "        self.denominator=denominator\n",
        "\n",
        "    def __str__(self):\n",
        "        return f\"{self.numerator}/{self.denominator}\"\n",
        "\n",
        "frac=Fraction(8,9)\n",
        "print(frac)"
      ],
      "metadata": {
        "colab": {
          "base_uri": "https://localhost:8080/"
        },
        "id": "tIURYWkPqGDa",
        "outputId": "280e94b9-347c-4069-fcab-c7946e4308e0"
      },
      "execution_count": 19,
      "outputs": [
        {
          "output_type": "stream",
          "name": "stdout",
          "text": [
            "8/9\n"
          ]
        }
      ]
    },
    {
      "cell_type": "code",
      "source": [
        "'''\n",
        "Q10. Demonstrate operator overloading by creating a class Vector and overriding\n",
        "the add method to add two vectors\n",
        "'''\n",
        "class Vector:\n",
        "    def __init__(self,i,j,k):\n",
        "        self.i=i\n",
        "        self.j=j\n",
        "        self.k=k\n",
        "\n",
        "    def __str__(self):\n",
        "        return f\"{self.i}i+{self.j}j+{self.k}k\"\n",
        "\n",
        "    def __add__(self,x):\n",
        "        return Vector (self.i+x.i,self.j+x.j,self.k+x.k)\n",
        "\n",
        "v1=Vector(3,4,5)\n",
        "print(v1)\n",
        "v2=Vector(7,8,9)\n",
        "print(v2)\n",
        "\n",
        "v=v1+v2\n",
        "print(v)"
      ],
      "metadata": {
        "colab": {
          "base_uri": "https://localhost:8080/"
        },
        "id": "f3mtP2vrr9GC",
        "outputId": "13fa0608-e38e-41b2-b77b-16756d151767"
      },
      "execution_count": 20,
      "outputs": [
        {
          "output_type": "stream",
          "name": "stdout",
          "text": [
            "3i+4j+5k\n",
            "7i+8j+9k\n",
            "10i+12j+14k\n"
          ]
        }
      ]
    },
    {
      "cell_type": "code",
      "source": [
        "'''\n",
        "Q11. Create a class Person with attributes name and age. Add a method greet()\n",
        "that prints \"Hello, my name is {name} and I am {age} years old.\n",
        "'''\n",
        "class Person:\n",
        "    def __init__(self,name,age):\n",
        "        self.name=name\n",
        "        self.age=age\n",
        "\n",
        "    def greet(self):\n",
        "        print(f\"Hello, my name is {self.name} and I am {self.age} years old\")\n",
        "\n",
        "p1=Person(\"Sunny Bharti\",21)\n",
        "p1.greet()"
      ],
      "metadata": {
        "colab": {
          "base_uri": "https://localhost:8080/"
        },
        "id": "U8qmStZiyBUa",
        "outputId": "f9d59f8a-6ec2-459a-a1fa-652c6a9ba28a"
      },
      "execution_count": 21,
      "outputs": [
        {
          "output_type": "stream",
          "name": "stdout",
          "text": [
            "Hello, my name is Sunny Bharti and I am 21 years old\n"
          ]
        }
      ]
    },
    {
      "cell_type": "code",
      "source": [
        "'''\n",
        "Q12. Implement a class Student with attributes name and grades. Create a method\n",
        "average_grade() to compute the average of the grades.\n",
        "'''\n",
        "class Students:\n",
        "    def __init__(self,name,grades):\n",
        "        self.name=name\n",
        "        self.grades=grades\n",
        "\n",
        "    def average_grade(self):\n",
        "        return sum(self.grades)/len(self.grades)\n",
        "\n",
        "student=Students(\"Sunny\",[80,87,86,95,97,89])\n",
        "student.average_grade()"
      ],
      "metadata": {
        "colab": {
          "base_uri": "https://localhost:8080/"
        },
        "id": "lsD9WV2Tz6S2",
        "outputId": "8ebcd195-35a5-4cac-e22e-34f6d03edad0"
      },
      "execution_count": 22,
      "outputs": [
        {
          "output_type": "execute_result",
          "data": {
            "text/plain": [
              "89.0"
            ]
          },
          "metadata": {},
          "execution_count": 22
        }
      ]
    },
    {
      "cell_type": "code",
      "source": [
        "'''\n",
        "Q13. Create a class Rectangle with methods set_dimensions() to set the\n",
        "dimensions and area() to calculate the area.\n",
        "'''\n",
        "class Rectangle:\n",
        "    def __init__(self):\n",
        "        self.length=0\n",
        "        self.breadth=0\n",
        "\n",
        "    def set_dimensions(self,length,breadth):\n",
        "        self.length=length\n",
        "        self.breadth=breadth\n",
        "\n",
        "    def area(self):\n",
        "        if self.length<0 or self.breadth<0:\n",
        "            return False\n",
        "        else:\n",
        "            return self.length*self.breadth\n",
        "\n",
        "rec=Rectangle()\n",
        "rec.set_dimensions(4,5)\n",
        "print(rec.area())"
      ],
      "metadata": {
        "colab": {
          "base_uri": "https://localhost:8080/"
        },
        "id": "RSOJwzm02BvV",
        "outputId": "e798c433-9dcb-43c6-f0b1-0eb234737332"
      },
      "execution_count": 23,
      "outputs": [
        {
          "output_type": "stream",
          "name": "stdout",
          "text": [
            "20\n"
          ]
        }
      ]
    },
    {
      "cell_type": "code",
      "source": [
        "'''\n",
        "Q14.  Create a class Employee with a method calculate_salary() that computes the\n",
        "salary based on hours worked and hourly rate.\n",
        "Create a derived class Manager that adds a bonus to the salary\n",
        "'''\n",
        "class Employee:\n",
        "    def __init__(self, name, hours_worked, hourly_rate):\n",
        "        self.name = name\n",
        "        self.hours_worked = hours_worked\n",
        "        self.hourly_rate = hourly_rate\n",
        "\n",
        "    def calculate_salary(self):\n",
        "        return self.hours_worked * self.hourly_rate\n",
        "\n",
        "class Manager(Employee):\n",
        "    def __init__(self, name, hours_worked, hourly_rate, bonus):\n",
        "        super().__init__(name, hours_worked, hourly_rate)\n",
        "        self.bonus = bonus\n",
        "\n",
        "    def calculate_salary(self):\n",
        "        return super().calculate_salary() + self.bonus\n",
        "\n",
        "emp=Manager('Ram',10,1000,4000)\n",
        "emp.calculate_salary()"
      ],
      "metadata": {
        "colab": {
          "base_uri": "https://localhost:8080/"
        },
        "id": "LfyaMavw69Ep",
        "outputId": "adbf91e5-888f-47ff-99ff-6bd09bed5169"
      },
      "execution_count": 33,
      "outputs": [
        {
          "output_type": "execute_result",
          "data": {
            "text/plain": [
              "14000"
            ]
          },
          "metadata": {},
          "execution_count": 33
        }
      ]
    },
    {
      "cell_type": "code",
      "source": [
        "'''\n",
        "Q15. Create a class Product with attributes name, price, and quantity.\n",
        "Implement a method total_price() that calculates the total price of the product.\n",
        "'''\n",
        "class Product:\n",
        "    def __init__(self,name,price,quantity):\n",
        "        self.name=name\n",
        "        self.price=price\n",
        "        self.quantity=quantity\n",
        "\n",
        "    def total_price(self):\n",
        "        return self.price*self.quantity\n",
        "\n",
        "prod=Product('Apple',120,5)\n",
        "prod.total_price()"
      ],
      "metadata": {
        "colab": {
          "base_uri": "https://localhost:8080/"
        },
        "id": "CYNO0QSoArdD",
        "outputId": "6d4bd728-0ade-4159-d007-6662b331e573"
      },
      "execution_count": 34,
      "outputs": [
        {
          "output_type": "execute_result",
          "data": {
            "text/plain": [
              "600"
            ]
          },
          "metadata": {},
          "execution_count": 34
        }
      ]
    },
    {
      "cell_type": "code",
      "source": [
        "'''\n",
        "Q16. Create a class Animal with an abstract method sound(). Create two derived\n",
        "classes Cow and Sheep that implement the sound() method.\n",
        "'''\n",
        "import abc\n",
        "class Animal:\n",
        "    @abc.abstractmethod\n",
        "    def sound():\n",
        "        pass\n",
        "\n",
        "class Cow(Animal):\n",
        "    def sound(self):\n",
        "        return 'Moo'\n",
        "\n",
        "class Sheep(Animal):\n",
        "    def sound(self):\n",
        "        return 'Baa'\n",
        "\n",
        "cow=Cow()\n",
        "print(cow.sound())\n",
        "sheep=Sheep()\n",
        "print(sheep.sound())"
      ],
      "metadata": {
        "colab": {
          "base_uri": "https://localhost:8080/"
        },
        "id": "_tSZTe7aCjEy",
        "outputId": "71586f9c-f578-465c-f948-a23c7da63d3c"
      },
      "execution_count": 35,
      "outputs": [
        {
          "output_type": "stream",
          "name": "stdout",
          "text": [
            "Moo\n",
            "Baa\n"
          ]
        }
      ]
    },
    {
      "cell_type": "code",
      "source": [
        "'''\n",
        "Q17.  Create a class Book with attributes title, author, and year_published.\n",
        "Add a method get_book_info() that returns a formatted string with\n",
        "the book's details.\n",
        "'''\n",
        "class Book:\n",
        "    def __init__(self,title,author,year_published):\n",
        "        self.title=title\n",
        "        self.author=author\n",
        "        self.year_published=year_published\n",
        "\n",
        "    def get_book_info(self):\n",
        "        return f\"title is {self.title},author is {self.author} and published in {self.year_published}\"\n",
        "\n",
        "book=Book(\"Krishna-Karn Samwad\",\"Ramdhari Singh Dinkar\",1952)\n",
        "book.get_book_info()"
      ],
      "metadata": {
        "colab": {
          "base_uri": "https://localhost:8080/",
          "height": 35
        },
        "id": "6u2GzZJYEX0C",
        "outputId": "ffe82fbc-bf89-4664-a5ef-5480c1531b13"
      },
      "execution_count": 36,
      "outputs": [
        {
          "output_type": "execute_result",
          "data": {
            "text/plain": [
              "'title is Krishna-Karn Samwad,author is Ramdhari Singh Dinkar and published in 1952'"
            ],
            "application/vnd.google.colaboratory.intrinsic+json": {
              "type": "string"
            }
          },
          "metadata": {},
          "execution_count": 36
        }
      ]
    },
    {
      "cell_type": "code",
      "source": [
        "'''\n",
        "Q18. Create a class House with attributes address and price. Create a derived\n",
        "class Mansion that adds an attribute number_of_rooms.\n",
        "'''\n",
        "class House:\n",
        "    def __init__(self,address,price):\n",
        "        self.address=address\n",
        "        self.price=price\n",
        "\n",
        "class Mansion(House):\n",
        "    def __init__(self,address,price,number_of_rooms):\n",
        "        super().__init__(address,price)\n",
        "        self.number_of_rooms=number_of_rooms\n",
        "\n",
        "    def get_house_details(self):\n",
        "        return f\"adress: {self.address},price: {self.price},number_of_rooms: {self.number_of_rooms}\"\n",
        "\n",
        "house=Mansion('Begusarai',150000000,10)\n",
        "house.get_house_details()"
      ],
      "metadata": {
        "colab": {
          "base_uri": "https://localhost:8080/",
          "height": 35
        },
        "id": "OWcgkSTqHRNV",
        "outputId": "0535f7e2-a46e-4f7b-f9da-ad0a9477638d"
      },
      "execution_count": 37,
      "outputs": [
        {
          "output_type": "execute_result",
          "data": {
            "text/plain": [
              "'adress: Begusarai,price: 150000000,number_of_rooms: 10'"
            ],
            "application/vnd.google.colaboratory.intrinsic+json": {
              "type": "string"
            }
          },
          "metadata": {},
          "execution_count": 37
        }
      ]
    },
    {
      "cell_type": "code",
      "source": [],
      "metadata": {
        "id": "t3fB0fEvNTB5"
      },
      "execution_count": null,
      "outputs": []
    }
  ]
}